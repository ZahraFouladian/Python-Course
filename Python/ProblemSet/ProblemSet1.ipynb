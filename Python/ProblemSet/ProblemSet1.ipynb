{
 "cells": [
  {
   "cell_type": "markdown",
   "id": "aafc0748-b510-4a5c-a2fc-4be68783d9dc",
   "metadata": {},
   "source": [
    "# ProblemSet1"
   ]
  },
  {
   "cell_type": "markdown",
   "id": "2c7acce1-f00f-43c2-a2c1-dc7ab2d11a22",
   "metadata": {
    "tags": []
   },
   "source": [
    "## 1-hello word"
   ]
  },
  {
   "cell_type": "markdown",
   "id": "19889d66-25e7-4296-9a45-3b211277ae5c",
   "metadata": {
    "tags": []
   },
   "source": [
    "### Question"
   ]
  },
  {
   "cell_type": "markdown",
   "id": "0dac2eba-bc52-4e39-b27d-2a8afb232c4b",
   "metadata": {},
   "source": [
    "Write a program in python that prints hello world.\n"
   ]
  },
  {
   "cell_type": "markdown",
   "id": "622b18f1-3e05-4d20-b524-494e69726a6f",
   "metadata": {},
   "source": [
    "### Soulution"
   ]
  },
  {
   "cell_type": "code",
   "execution_count": null,
   "id": "dedf986d-a54a-436f-8f9d-1e146aab800c",
   "metadata": {},
   "outputs": [],
   "source": []
  },
  {
   "cell_type": "markdown",
   "id": "8d585e73-465c-410b-bec6-497f29afa9be",
   "metadata": {
    "tags": []
   },
   "source": [
    "## 2-True or False`"
   ]
  },
  {
   "cell_type": "markdown",
   "id": "2e587697-4155-41a9-8939-6bb674af1d45",
   "metadata": {},
   "source": [
    "### Question"
   ]
  },
  {
   "cell_type": "markdown",
   "id": "c249de1b-b8a8-4995-adc5-858210878083",
   "metadata": {},
   "source": [
    "Which statement is true? and why?\n",
    "\n",
    "1-In Python, a variable must be declared before it is assigned a value. \n",
    "\n",
    "2-In Python, a variable may be assigned a value of one type, and then later assigned a value of a different type.\n"
   ]
  },
  {
   "cell_type": "markdown",
   "id": "7ede2d80-5aee-45dc-98ee-2b274c427575",
   "metadata": {},
   "source": [
    "### Soulution"
   ]
  },
  {
   "cell_type": "code",
   "execution_count": null,
   "id": "1d9aeac9-802f-45fa-a5e3-bf08916e9454",
   "metadata": {},
   "outputs": [],
   "source": []
  },
  {
   "cell_type": "markdown",
   "id": "b551b9b7-b2e0-4b69-aad5-d95a516743fd",
   "metadata": {
    "tags": []
   },
   "source": [
    "## 3-Naming Convention"
   ]
  },
  {
   "cell_type": "markdown",
   "id": "fafacaef-bd50-4d6d-a2b7-5491ef37c540",
   "metadata": {},
   "source": [
    "### Question"
   ]
  },
  {
   "cell_type": "markdown",
   "id": "0e04285e-d8c9-486d-b8f3-f63939ffb726",
   "metadata": {
    "tags": []
   },
   "source": [
    "Consider the following sequence of statements :"
   ]
  },
  {
   "cell_type": "raw",
   "id": "4a65ab23-0eba-4fdc-8d87-67267dde71a6",
   "metadata": {},
   "source": [
    ">>> employeenumber = 4398\n",
    "\n",
    "\n",
    ">>> EmployeeNumber = 4398\n",
    "\n",
    "\n",
    ">>> employeeNumber = 4398"
   ]
  },
  {
   "cell_type": "markdown",
   "id": "d92668fe-c7de-43c0-81ad-5dab2947554f",
   "metadata": {},
   "source": [
    "Choose the right answer:\n",
    "\n",
    "1-These statements refer to different variables.\n",
    "\n",
    "2-These statements refer to the same variable.\n"
   ]
  },
  {
   "cell_type": "markdown",
   "id": "fe4ade46-bb45-4adc-ac2b-7abdf2ad6191",
   "metadata": {},
   "source": [
    "### Soulution"
   ]
  },
  {
   "cell_type": "code",
   "execution_count": null,
   "id": "4faaa479-c304-40e7-95a7-df6750e03cd1",
   "metadata": {},
   "outputs": [],
   "source": []
  },
  {
   "cell_type": "markdown",
   "id": "9b2655d9-9296-4cbe-b68f-afa9cf69f717",
   "metadata": {
    "tags": []
   },
   "source": [
    "## 4- Object Refrences\n"
   ]
  },
  {
   "cell_type": "markdown",
   "id": "de728991-860f-4868-a610-65a8be9a0b9f",
   "metadata": {},
   "source": [
    "### Question"
   ]
  },
  {
   "cell_type": "markdown",
   "id": "7bd31b9a-9344-46c9-aaf4-bfedcd6ab076",
   "metadata": {
    "tags": []
   },
   "source": [
    "Consider the following sequence of statements:"
   ]
  },
  {
   "cell_type": "raw",
   "id": "438c4f79-be7b-4ba2-90bb-e06b1b479887",
   "metadata": {},
   "source": [
    ">>> n = 300\n",
    ">>> m = n"
   ]
  },
  {
   "cell_type": "markdown",
   "id": "ac86d529-b07e-47bf-9af6-8de10c877ae3",
   "metadata": {
    "tags": []
   },
   "source": [
    "Following the execution of these statements, Python has created how many objects and how many references?\n",
    "\n",
    "1-One object, two references\n",
    "2-One object, one reference\n",
    "3-Two objects, one reference\n",
    "4-Two objects, two references\n"
   ]
  },
  {
   "cell_type": "markdown",
   "id": "5f828bc7-99ac-4d3b-b58b-eceed1fc7788",
   "metadata": {},
   "source": [
    "### Soulution"
   ]
  },
  {
   "cell_type": "code",
   "execution_count": null,
   "id": "bd906da0-d596-4179-ad61-414b82ee6e66",
   "metadata": {},
   "outputs": [],
   "source": []
  },
  {
   "cell_type": "markdown",
   "id": "af806c1c-e26e-431c-a06f-fd9ca61557e5",
   "metadata": {
    "tags": []
   },
   "source": [
    "## 5-Multiple Variable's Definition\n"
   ]
  },
  {
   "cell_type": "markdown",
   "id": "c4bf7e35-6157-43a2-ac60-5d0c0bf224d2",
   "metadata": {},
   "source": [
    "### Question"
   ]
  },
  {
   "cell_type": "markdown",
   "id": "cedb2e00-8d55-4b0b-82af-9e87afee3be3",
   "metadata": {},
   "source": [
    "Assign values \"python\" , 2023 and 3.14 to var_s , var_i , var_f in only one line of code.\n",
    "\n"
   ]
  },
  {
   "cell_type": "markdown",
   "id": "b773365b-ceaa-4ec7-a9da-4925a63242b1",
   "metadata": {},
   "source": [
    "### Solution"
   ]
  },
  {
   "cell_type": "code",
   "execution_count": null,
   "id": "77284dc7-ab0f-4ab5-afeb-1b4429a1b3ac",
   "metadata": {},
   "outputs": [],
   "source": []
  },
  {
   "cell_type": "markdown",
   "id": "357921b4-0791-467c-956b-0062a6704ff2",
   "metadata": {
    "tags": []
   },
   "source": [
    "## 6-Variable Assignment\n"
   ]
  },
  {
   "cell_type": "markdown",
   "id": "8a2f6b8a-1975-4329-9019-8b01f0f5cbf5",
   "metadata": {
    "tags": []
   },
   "source": [
    "### Question"
   ]
  },
  {
   "cell_type": "markdown",
   "id": "8e385f9c-e9b5-40c0-b816-f5d685306aec",
   "metadata": {},
   "source": [
    "Consider the following sequence of statements :"
   ]
  },
  {
   "cell_type": "raw",
   "id": "67f29a43-aabf-48f3-8e44-72215e68aa28",
   "metadata": {},
   "source": [
    ">>> m = 245\n",
    ">>> n = 245\n",
    ">>> x = 268 \n",
    ">>> y = 268 \n",
    ">>> z = y"
   ]
  },
  {
   "cell_type": "markdown",
   "id": "39e15f4f-38ae-42dc-aba7-2302de7bddc5",
   "metadata": {},
   "source": [
    "Choose the statements that all parts are true\n",
    "\n",
    "1-id(m) != id(n), id(x) != id(y)\n",
    "\n",
    "2-id(m) == id(n), id(x) == id(y)\n",
    "\n",
    "3-id(m) == id(n), id(x) != id(y)\n",
    "\n",
    "4-id(m) != id(n), id(x) == id(y)\n",
    "\n",
    "5-id(z) == id(y)\n",
    "\n",
    "6-id(z) != id(y)\n",
    " "
   ]
  },
  {
   "cell_type": "markdown",
   "id": "4c504522-9ce1-4330-8a7e-425243e3f27b",
   "metadata": {
    "tags": []
   },
   "source": [
    "### Solution"
   ]
  },
  {
   "cell_type": "code",
   "execution_count": null,
   "id": "d97ec987-82ca-46d8-a62f-995a11da17ce",
   "metadata": {},
   "outputs": [],
   "source": []
  },
  {
   "cell_type": "markdown",
   "id": "aa82d7f9-84be-45a6-ad30-62179f722ba6",
   "metadata": {
    "tags": []
   },
   "source": [
    "## 7-Quick Swap\n"
   ]
  },
  {
   "cell_type": "markdown",
   "id": "fe1b0dc5-0bab-43bf-bac3-bc30ccec5ce8",
   "metadata": {},
   "source": [
    "### Question"
   ]
  },
  {
   "cell_type": "markdown",
   "id": "bf74b319-34cc-4991-91ce-32ef0b5b864e",
   "metadata": {
    "tags": []
   },
   "source": [
    "Assume we have two variables called input_1 and input_2 . Swap the values of the two variables so that input_1 has the value of input_2 and vice versa. Print out the two variables.  \n",
    "\n",
    "Note: You must perform the swap in only 1 line of code, and without using any variables other than input_1 and input_2 ."
   ]
  },
  {
   "cell_type": "markdown",
   "id": "02bb49c1-2b18-43e5-831c-2d1fe79d5cf1",
   "metadata": {
    "tags": []
   },
   "source": [
    "### Solution"
   ]
  },
  {
   "cell_type": "code",
   "execution_count": null,
   "id": "c5ec6274-95f7-49ef-96b3-f3685490b3c4",
   "metadata": {},
   "outputs": [],
   "source": []
  },
  {
   "cell_type": "markdown",
   "id": "67a9483d-a133-4943-a073-af5c16e3256c",
   "metadata": {
    "tags": []
   },
   "source": [
    "## 8- Custom Swap\n"
   ]
  },
  {
   "cell_type": "markdown",
   "id": "1d28ddca-1660-4852-a60b-4792df735bd7",
   "metadata": {},
   "source": [
    "### Question"
   ]
  },
  {
   "cell_type": "markdown",
   "id": "49177156-8fd9-4dc5-a6d6-29b025dacd26",
   "metadata": {},
   "source": [
    "Ali has a problem with one of his python practices. He wants to get two numbers as input from the user and put them in input_1 and input_2 . then Swap the values of the two variables so that input_1 has the value of input_2 and vice versa. Finally, print out the two variables.  \n",
    "\n",
    "\n",
    "\n",
    "Note: He must only use 3 variables in his code"
   ]
  },
  {
   "cell_type": "markdown",
   "id": "3b95e6d4-9a29-415d-9030-932913a70cf2",
   "metadata": {},
   "source": [
    "### Solution"
   ]
  },
  {
   "cell_type": "code",
   "execution_count": null,
   "id": "d559c7bc-1de9-470e-8a76-648971e57d7f",
   "metadata": {},
   "outputs": [],
   "source": []
  },
  {
   "cell_type": "markdown",
   "id": "0211d9b4-6cb8-42ac-ad8c-f2d777ce16b4",
   "metadata": {
    "tags": []
   },
   "source": [
    "## 9-Easy Sum\n"
   ]
  },
  {
   "cell_type": "markdown",
   "id": "0aae9842-4507-4154-bf93-e0a8962317b0",
   "metadata": {},
   "source": [
    "### Question"
   ]
  },
  {
   "cell_type": "markdown",
   "id": "2bb8b3a3-d7dc-41ab-a557-5654dd2c64af",
   "metadata": {},
   "source": [
    "We ask zahra to write a code that takes two inputs from the user and saves them in two desired variables, and then puts the sum of the two inputs in a variable and prints the result. Since zahra does not know the syntax of python, we ask you to help her to write this code!"
   ]
  },
  {
   "cell_type": "markdown",
   "id": "aa67d741-c880-432b-8c31-d4a92bd6d6bc",
   "metadata": {},
   "source": [
    "Note: Use snake case format for variable names.\n",
    "\n"
   ]
  },
  {
   "cell_type": "markdown",
   "id": "ee6adaa2-e51b-4d59-abbe-a53b5899a10c",
   "metadata": {},
   "source": [
    "Hint: You can use the following code to take input from the user and convert it to an integer. (In future sessions we will explain how this code works).\n",
    "\n",
    "You can change the name of the variable to anything you like."
   ]
  },
  {
   "cell_type": "raw",
   "id": "cda5abb7-50cb-4dc7-bd75-534a3d9adc81",
   "metadata": {},
   "source": [
    "input_1 = int(input('Enter a number: '))\n",
    "input_2 = int(input('Enter another number: '))"
   ]
  },
  {
   "cell_type": "markdown",
   "id": "a48e858f-5ee0-4739-ab4d-40defb6add9b",
   "metadata": {},
   "source": [
    "### Solution"
   ]
  },
  {
   "cell_type": "code",
   "execution_count": null,
   "id": "ddc122fa-1693-4450-bf00-6288a056bed8",
   "metadata": {},
   "outputs": [],
   "source": []
  },
  {
   "cell_type": "markdown",
   "id": "ee75589c-b1e1-4f10-907c-d91bb8c0841b",
   "metadata": {
    "tags": []
   },
   "source": [
    "## 10-Warm-Up Variable Practice!\n"
   ]
  },
  {
   "cell_type": "markdown",
   "id": "729429d4-c85d-4e75-96c7-6c5f301ade8f",
   "metadata": {},
   "source": [
    "### Question"
   ]
  },
  {
   "cell_type": "markdown",
   "id": "281cd6e3-793f-411b-ab4c-36aec95f231a",
   "metadata": {},
   "source": [
    "`zahra's programming teacher asks him to define two variables inp_1 and inp_2 and assign values 10 and 35 to them. then put inp_1 + inp_2 in variable result and print it. zahra is a lazy student and asks you to do this for her!"
   ]
  },
  {
   "cell_type": "markdown",
   "id": "fc8c60e7-2bb9-4e29-8869-f66d08e37c92",
   "metadata": {},
   "source": [
    "### Solution"
   ]
  },
  {
   "cell_type": "code",
   "execution_count": null,
   "id": "e59d1c25-8b4a-4439-8ad3-f0b70190d8df",
   "metadata": {},
   "outputs": [],
   "source": []
  }
 ],
 "metadata": {
  "kernelspec": {
   "display_name": "Python 3 (ipykernel)",
   "language": "python",
   "name": "python3"
  },
  "language_info": {
   "codemirror_mode": {
    "name": "ipython",
    "version": 3
   },
   "file_extension": ".py",
   "mimetype": "text/x-python",
   "name": "python",
   "nbconvert_exporter": "python",
   "pygments_lexer": "ipython3",
   "version": "3.10.13"
  }
 },
 "nbformat": 4,
 "nbformat_minor": 5
}
