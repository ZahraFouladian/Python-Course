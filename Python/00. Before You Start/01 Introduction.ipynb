{
 "cells": [
  {
   "cell_type": "markdown",
   "metadata": {
    "jp-MarkdownHeadingCollapsed": true,
    "tags": []
   },
   "source": [
    "## <img src=\"../../images/logos/toc.png\" width=\"20\"/> Table of Contents \n",
    "* [Introduction](#1)\n",
    "* [Python Versions and Python 2 vs. Python 3](#2)\n",
    "    * [Python2](#3)\n",
    "    * [Python3](#4)\n",
    "    * [Key Differences and Benefits of Python 3](#5)\n",
    "* [Python's Features and Applications](#6)\n",
    "    * [Python is Popular](#10)\n",
    "    * [Python is Interpreted](#11)\n",
    "    * [Python is Free](#12)\n",
    "    * [Python is Portable](#13)\n",
    "    * [Python is Simple](#14)\n",
    "    * [Extensive Standard Library and Third-Party Packages](#15)\n",
    "    * [Object-Oriented Programming](#16)\n",
    "    * [Web Development](#18)\n",
    "    * [Data Analysis and Scientific Computing](#19)\n",
    "    * [Machine Learning and Artificial Intelligence](#20)       \n",
    "---"
   ]
  },
  {
   "cell_type": "markdown",
   "metadata": {
    "tags": []
   },
   "source": [
    "<a class=\"anchor\" id=\"1\"></a>\n",
    "# Introduction "
   ]
  },
  {
   "cell_type": "markdown",
   "metadata": {},
   "source": [
    "- Python was created in 1990 by [Guido van Rossum](https://en.wikipedia.org/wiki/Guido\\\\_van\\\\_Rossum).\n",
    "- Python 3 released in 2008.\n",
    "- Specifically designed as an easy to use language.\n",
    "- High focus on readability of code."
   ]
  },
  {
   "cell_type": "markdown",
   "metadata": {
    "tags": []
   },
   "source": [
    "<a class=\"anchor\" id=\"2\"></a>\n",
    "# Python Versions and Python 2 vs. Python 3"
   ]
  },
  {
   "cell_type": "markdown",
   "metadata": {},
   "source": [
    "Python has undergone significant changes and improvements over the years, resulting in different versions of the language. The two main versions that coexist are Python 2 and Python 3. Let's explore the differences between these versions and understand their implications."
   ]
  },
  {
   "cell_type": "markdown",
   "metadata": {
    "tags": []
   },
   "source": [
    "<a class=\"anchor\" id='3'></a>\n",
    "## Python 2"
   ]
  },
  {
   "cell_type": "markdown",
   "metadata": {
    "tags": []
   },
   "source": [
    "Python 2 was released in 2000 and quickly gained popularity among developers. It became the standard version of Python for over a decade. Many projects and libraries were built using Python 2, and it had a vast ecosystem of tools and packages."
   ]
  },
  {
   "cell_type": "markdown",
   "metadata": {},
   "source": [
    "However, Python 2 reached its end of life in January 2020, meaning it is no longer actively maintained or updated by the Python core development team. This decision was made to shift focus and resources to Python 3, which brings significant improvements and enhancements to the language.\n"
   ]
  },
  {
   "cell_type": "markdown",
   "metadata": {
    "tags": []
   },
   "source": [
    "<a class=\"anchor\" id='4'></a>\n",
    "## Python 3"
   ]
  },
  {
   "cell_type": "markdown",
   "metadata": {},
   "source": [
    "Python 3 was introduced in 2008 with the goal of addressing some of the design flaws and limitations of Python 2. It brought numerous improvements, including enhanced Unicode support, simplified syntax, improved performance, and additional features. However, these changes were not backward-compatible, which led to the coexistence of Python 2 and Python 3 for many years."
   ]
  },
  {
   "cell_type": "markdown",
   "metadata": {
    "tags": []
   },
   "source": [
    "<img src=\"./images/python-versions-timeline.jpg\" width=\"600\">"
   ]
  },
  {
   "cell_type": "markdown",
   "metadata": {
    "tags": []
   },
   "source": [
    "<a class=\"anchor\" id='5'></a>\n",
    "## Key Differences and Benefits of Python 3"
   ]
  },
  {
   "cell_type": "markdown",
   "metadata": {},
   "source": [
    "1. **Print Statement vs. Print Function**: In Python 2, the print statement was used for outputting text, while Python 3 introduced the print function, making it consistent with other function calls in the language.\n",
    "\n",
    "2. **Unicode Support**: Python 3 offers better support for Unicode, making it easier to handle and process text from different languages and character sets.\n",
    "\n",
    "3. **Improved Syntax**: Python 3 introduced several syntax enhancements and language improvements, making the code more readable and reducing ambiguity.\n",
    "\n",
    "4. **Enhanced Libraries and Modules**: As Python 3 gained traction, many libraries and modules started focusing on Python 3 compatibility, offering new features and improvements that were not available in Python 2.\n",
    "\n",
    "5. **Future Development and Community Support**: Python 3 is actively developed and receives regular updates, bug fixes, and security patches. The Python community and ecosystem have largely transitioned to Python 3, resulting in more resources, documentation, and community support."
   ]
  },
  {
   "cell_type": "markdown",
   "metadata": {
    "tags": []
   },
   "source": [
    "<a class=\"anchor\" id=\"6\"></a>\n",
    "# Python's Features and Applications\n"
   ]
  },
  {
   "cell_type": "markdown",
   "metadata": {
    "tags": []
   },
   "source": [
    "<a class=\"anchor\" id=\"10\"></a>\n",
    "## Python is Popular"
   ]
  },
  {
   "cell_type": "markdown",
   "metadata": {},
   "source": [
    "\n",
    "Python has been growing in popularity over the last few years. The [2018 Stack Overflow Developer Survey](https://insights.stackoverflow.com/survey/2018) ranked Python as the 7th most popular and the number one most wanted technology of the year. [World-class software development companies around the globe use Python every single day](https://realpython.com/world-class-companies-using-python/).\n",
    "\n",
    "According to [research by Dice](https://insights.dice.com/2016/02/01/whats-hot-and-not-in-tech-skills/) Python is also one of the hottest skills to have and the most popular programming language in the world based on the [Popularity of Programming Language Index](https://pypl.github.io/PYPL.html).\n",
    "\n",
    "Due to the popularity and widespread use of Python as a programming language, Python developers are sought after and paid well. If you’d like to dig deeper into [Python salary statistics and job opportunities, you can do so here](https://dbader.org/blog/why-learn-python)."
   ]
  },
  {
   "cell_type": "markdown",
   "metadata": {
    "tags": []
   },
   "source": [
    "<a class=\"anchor\" id=\"11\"></a>\n",
    "## Python is Interpreted"
   ]
  },
  {
   "cell_type": "markdown",
   "metadata": {},
   "source": [
    "Many languages are compiled, meaning the source code you create needs to be translated into machine code, the language of your computer’s processor, before it can be run. Programs written in an interpreted language are passed straight to an interpreter that runs them directly.\n",
    "\n",
    "This makes for a quicker development cycle because you just type in your code and run it, without the intermediate compilation step.\n",
    "\n",
    "One potential downside to interpreted languages is execution speed. Programs that are compiled into the native language of the computer processor tend to run more quickly than interpreted programs. For some applications that are particularly computationally intensive, like graphics processing or intense number crunching, this can be limiting.\n",
    "\n",
    "In practice, however, for most programs, the difference in execution speed is measured in milliseconds, or seconds at most, and not appreciably noticeable to a human user. The expediency of coding in an interpreted language is typically worth it for most applications."
   ]
  },
  {
   "cell_type": "markdown",
   "metadata": {
    "tags": []
   },
   "source": [
    "<a class=\"anchor\" id=\"12\"></a>\n",
    "## Python is Free"
   ]
  },
  {
   "cell_type": "markdown",
   "metadata": {},
   "source": [
    "The Python interpreter is developed under an OSI-approved open-source license, making it free to install, use, and distribute, even for commercial purposes.\n",
    "\n",
    "A version of the interpreter is available for virtually any platform there is, including all flavors of Unix, Windows, macOS, smartphones and tablets, and probably anything else you ever heard of. A version even exists for the half dozen people remaining who use OS/2."
   ]
  },
  {
   "cell_type": "markdown",
   "metadata": {
    "tags": []
   },
   "source": [
    "<a class=\"anchor\" id=\"13\"></a>\n",
    "## Python is Portable"
   ]
  },
  {
   "cell_type": "markdown",
   "metadata": {},
   "source": [
    "Because Python code is interpreted and not compiled into native machine instructions, code written for one platform will work on any other platform that has the Python interpreter installed. (This is true of any interpreted language, not just Python.)"
   ]
  },
  {
   "cell_type": "markdown",
   "metadata": {},
   "source": [
    "<a class=\"anchor\" id=\"14\"></a>\n",
    "## Python is Simple"
   ]
  },
  {
   "cell_type": "markdown",
   "metadata": {
    "tags": []
   },
   "source": [
    "As programming languages go, Python is relatively uncluttered, and the developers have deliberately kept it that way.\n",
    "\n",
    "A rough estimate of the complexity of a language can be gleaned from the number of keywords or reserved words in the language. These are words that are reserved for special meaning by the compiler or interpreter because they designate specific built-in functionality of the language.\n",
    "\n",
    "Python 3 has 33 keywords, and Python 2 has 31. By contrast, C++ has 62, Java has 53, and Visual Basic has more than 120, though these latter examples probably vary somewhat by implementation or dialect.\n",
    "\n",
    "Python code has a simple and clean structure that is easy to learn and easy to read. In fact, as you will see, the language definition enforces code structure that is easy to read."
   ]
  },
  {
   "cell_type": "code",
   "execution_count": null,
   "metadata": {
    "tags": []
   },
   "outputs": [],
   "source": []
  },
  {
   "cell_type": "markdown",
   "metadata": {},
   "source": [
    "<a class=\"anchor\" id=\"15\"></a>\n",
    "## Extensive Standard Library and Third-Party Packages"
   ]
  },
  {
   "cell_type": "markdown",
   "metadata": {},
   "source": [
    "Python comes with an extensive standard library that provides a wide range of modules and functionalities for tasks such as file I/O, networking, regular expressions, and more. The standard library enables developers to accomplish many common programming tasks without relying heavily on external dependencies.\n",
    "Additionally, Python has a vast ecosystem of third-party packages and frameworks. The Python Package Index (PyPI) hosts thousands of open-source packages developed by the Python community. These packages cover diverse domains, including web development (Django, Flask), scientific computing (NumPy, SciPy), machine learning (scikit-learn, TensorFlow), data analysis (pandas), and more. The availability of these packages accelerates development and allows you to leverage the collective expertise of the Python community."
   ]
  },
  {
   "cell_type": "markdown",
   "metadata": {
    "tags": []
   },
   "source": [
    "<a class=\"anchor\" id=\"16\"></a>\n",
    "## Object-Oriented Programming"
   ]
  },
  {
   "cell_type": "markdown",
   "metadata": {},
   "source": [
    "Python supports object-oriented programming (OOP) paradigms, allowing developers to create reusable and modular code. With classes, objects, and inheritance, you can structure your code in a way that reflects real-world objects and relationships. OOP principles facilitate code organization, encapsulation, and abstraction, making it easier to build and maintain complex projects."
   ]
  },
  {
   "cell_type": "markdown",
   "metadata": {
    "tags": []
   },
   "source": [
    "<a class=\"anchor\" id=\"18\"></a>\n",
    "## Web Development"
   ]
  },
  {
   "cell_type": "markdown",
   "metadata": {},
   "source": [
    "Python is widely used for web development. Frameworks such as Django and Flask provide robust tools for building scalable, secure, and high-performance web applications. These frameworks simplify tasks like URL routing, database integration, user authentication, and template rendering. Python's readability and clean syntax make web development in Python efficient and enjoyable.\n"
   ]
  },
  {
   "cell_type": "markdown",
   "metadata": {
    "tags": []
   },
   "source": [
    "<img src=\"./images/python-web-frameworks.png\" width=\"600\">"
   ]
  },
  {
   "cell_type": "markdown",
   "metadata": {},
   "source": [
    "<a class=\"anchor\" id=\"19\"></a>\n",
    "## Data Analysis and Scientific Computing"
   ]
  },
  {
   "cell_type": "markdown",
   "metadata": {},
   "source": [
    "Python's rich ecosystem of libraries, such as NumPy, SciPy, and pandas, has made it a go-to language for data analysis and scientific computing. These libraries offer powerful data structures, numerical computing capabilities, statistical functions, and data manipulation tools. Python, along with Jupyter notebooks, has become the de facto standard for data scientists and researchers due to its ease of use, interactive nature, and visualization capabilities.\n"
   ]
  },
  {
   "cell_type": "markdown",
   "metadata": {
    "tags": []
   },
   "source": [
    "<img src=\"./images/python-scientific-computing.jpg\" width=\"600\">"
   ]
  },
  {
   "cell_type": "markdown",
   "metadata": {},
   "source": [
    "<a class=\"anchor\" id=\"20\"></a>\n",
    "## Machine Learning and Artificial Intelligence"
   ]
  },
  {
   "cell_type": "markdown",
   "metadata": {
    "tags": []
   },
   "source": [
    "Python has gained significant traction in the fields of machine learning and artificial intelligence (AI). Libraries like scikit-learn, TensorFlow, and PyTorch provide comprehensive tools for building and training machine learning models. Python's simplicity, coupled with these libraries, allows developers to experiment with various algorithms and models efficiently. The popularity of Python in the AI community is further amplified by frameworks like Keras\n"
   ]
  },
  {
   "cell_type": "markdown",
   "metadata": {},
   "source": [
    "<img src=\"./images/python-ml.png\" width=\"600\">"
   ]
  }
 ],
 "metadata": {
  "kernelspec": {
   "display_name": "Python 3 (ipykernel)",
   "language": "python",
   "name": "python3"
  },
  "language_info": {
   "codemirror_mode": {
    "name": "ipython",
    "version": 3
   },
   "file_extension": ".py",
   "mimetype": "text/x-python",
   "name": "python",
   "nbconvert_exporter": "python",
   "pygments_lexer": "ipython3",
   "version": "3.10.13"
  }
 },
 "nbformat": 4,
 "nbformat_minor": 4
}
