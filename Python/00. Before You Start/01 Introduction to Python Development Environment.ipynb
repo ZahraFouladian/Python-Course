{
 "cells": [
  {
   "cell_type": "markdown",
   "metadata": {
    "tags": []
   },
   "source": [
    "<img src=\"../../images/banners/python-before-start.png\" width=\"600\"/>"
   ]
  },
  {
   "cell_type": "markdown",
   "metadata": {},
   "source": [
    "# Introduction to Python Development Environment\n"
   ]
  },
  {
   "cell_type": "markdown",
   "metadata": {},
   "source": [
    "In this section, we will provide an overview of the Python development environment and discuss the benefits of using VS Code, Jupyter Notebook, and Conda together. Understanding the tools and their advantages will set the foundation for a seamless Python development experience.\n"
   ]
  },
  {
   "cell_type": "markdown",
   "metadata": {},
   "source": [
    "**Table of contents**<a id='toc0_'></a>    \n",
    "- [Python Development Environment](#toc1_)    \n",
    "- [VS Code (Visual Studio Code)](#toc2_)    \n",
    "- [Jupyter Notebook](#toc3_)    \n",
    "- [Conda](#toc4_)    \n",
    "- [Benefits of using VS Code, Jupyter Notebook, and Conda together](#toc5_)    \n",
    "\n",
    "<!-- vscode-jupyter-toc-config\n",
    "\tnumbering=false\n",
    "\tanchor=true\n",
    "\tflat=false\n",
    "\tminLevel=2\n",
    "\tmaxLevel=6\n",
    "\t/vscode-jupyter-toc-config -->\n",
    "<!-- THIS CELL WILL BE REPLACED ON TOC UPDATE. DO NOT WRITE YOUR TEXT IN THIS CELL -->"
   ]
  },
  {
   "cell_type": "markdown",
   "metadata": {},
   "source": [
    "## <a id='toc1_'></a>[Python Development Environment](#toc0_)\n"
   ]
  },
  {
   "cell_type": "markdown",
   "metadata": {},
   "source": [
    "The Python development environment refers to the set of tools and software configurations required to write, run, debug, and manage Python code efficiently. It encompasses text editors or integrated development environments (IDEs), package managers, and other supporting tools that enhance the development workflow.\n"
   ]
  },
  {
   "cell_type": "markdown",
   "metadata": {},
   "source": [
    "## <a id='toc2_'></a>[VS Code (Visual Studio Code)](#toc0_)\n"
   ]
  },
  {
   "cell_type": "markdown",
   "metadata": {},
   "source": [
    "<img src=\"./images/python-vscode.png\" width=\"600\">"
   ]
  },
  {
   "cell_type": "markdown",
   "metadata": {},
   "source": [
    "VS Code is a lightweight and highly customizable code editor developed by Microsoft. It offers robust features for Python development, including syntax highlighting, code completion, debugging support, version control integration, and extensibility through a wide range of extensions.\n"
   ]
  },
  {
   "cell_type": "markdown",
   "metadata": {},
   "source": [
    "## <a id='toc3_'></a>[Jupyter Notebook](#toc0_)\n"
   ]
  },
  {
   "cell_type": "markdown",
   "metadata": {},
   "source": [
    "<img src=\"./images/notebook-vscode.png\" width=\"600\">"
   ]
  },
  {
   "cell_type": "markdown",
   "metadata": {},
   "source": [
    "Jupyter Notebook is an interactive computing environment that allows users to create and share documents containing live code, visualizations, explanatory text, and more. It is particularly useful for data analysis, exploratory programming, and documentation purposes.\n",
    "\n",
    "> Note: To enhance the functionality of VS Code for Jupyter Notebook development, we will be utilizing the Jupyter Notebook extension. This extension enables seamless integration between VS Code and Jupyter Notebook, allowing you to create, edit, and run Jupyter notebooks directly within the editor. It provides features such as cell execution, interactive outputs, and markdown rendering, making it a powerful tool for data analysis and prototyping."
   ]
  },
  {
   "cell_type": "markdown",
   "metadata": {},
   "source": [
    "## <a id='toc4_'></a>[Conda](#toc0_)\n"
   ]
  },
  {
   "cell_type": "markdown",
   "metadata": {},
   "source": [
    "<img src=\"./images/conda-python.jpg\" width=\"500\">"
   ]
  },
  {
   "cell_type": "markdown",
   "metadata": {},
   "source": [
    "Conda is a popular package manager and environment management system for Python and other programming languages. It simplifies the process of installing, managing, and organizing packages and dependencies within isolated environments, ensuring reproducibility and avoiding conflicts between different projects.\n"
   ]
  }
 ],
 "metadata": {
  "kernelspec": {
   "display_name": "Python 3 (ipykernel)",
   "language": "python",
   "name": "python3"
  },
  "language_info": {
   "codemirror_mode": {
    "name": "ipython",
    "version": 3
   },
   "file_extension": ".py",
   "mimetype": "text/x-python",
   "name": "python",
   "nbconvert_exporter": "python",
   "pygments_lexer": "ipython3",
   "version": "3.10.13"
  }
 },
 "nbformat": 4,
 "nbformat_minor": 4
}
